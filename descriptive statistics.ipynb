{
 "cells": [
  {
   "cell_type": "code",
   "execution_count": 15,
   "id": "73ce237a-2708-4633-8fc4-d800728ae8b7",
   "metadata": {},
   "outputs": [
    {
     "data": {
      "text/html": [
       "<div>\n",
       "<style scoped>\n",
       "    .dataframe tbody tr th:only-of-type {\n",
       "        vertical-align: middle;\n",
       "    }\n",
       "\n",
       "    .dataframe tbody tr th {\n",
       "        vertical-align: top;\n",
       "    }\n",
       "\n",
       "    .dataframe thead th {\n",
       "        text-align: right;\n",
       "    }\n",
       "</style>\n",
       "<table border=\"1\" class=\"dataframe\">\n",
       "  <thead>\n",
       "    <tr style=\"text-align: right;\">\n",
       "      <th></th>\n",
       "      <th>values</th>\n",
       "      <th>values2</th>\n",
       "    </tr>\n",
       "  </thead>\n",
       "  <tbody>\n",
       "    <tr>\n",
       "      <th>0</th>\n",
       "      <td>10</td>\n",
       "      <td>23</td>\n",
       "    </tr>\n",
       "    <tr>\n",
       "      <th>1</th>\n",
       "      <td>15</td>\n",
       "      <td>23</td>\n",
       "    </tr>\n",
       "    <tr>\n",
       "      <th>2</th>\n",
       "      <td>20</td>\n",
       "      <td>4</td>\n",
       "    </tr>\n",
       "    <tr>\n",
       "      <th>3</th>\n",
       "      <td>25</td>\n",
       "      <td>5</td>\n",
       "    </tr>\n",
       "    <tr>\n",
       "      <th>4</th>\n",
       "      <td>25</td>\n",
       "      <td>1</td>\n",
       "    </tr>\n",
       "    <tr>\n",
       "      <th>5</th>\n",
       "      <td>30</td>\n",
       "      <td>34</td>\n",
       "    </tr>\n",
       "    <tr>\n",
       "      <th>6</th>\n",
       "      <td>35</td>\n",
       "      <td>56</td>\n",
       "    </tr>\n",
       "    <tr>\n",
       "      <th>7</th>\n",
       "      <td>35</td>\n",
       "      <td>67</td>\n",
       "    </tr>\n",
       "    <tr>\n",
       "      <th>8</th>\n",
       "      <td>35</td>\n",
       "      <td>8</td>\n",
       "    </tr>\n",
       "    <tr>\n",
       "      <th>9</th>\n",
       "      <td>40</td>\n",
       "      <td>44</td>\n",
       "    </tr>\n",
       "    <tr>\n",
       "      <th>10</th>\n",
       "      <td>45</td>\n",
       "      <td>56</td>\n",
       "    </tr>\n",
       "    <tr>\n",
       "      <th>11</th>\n",
       "      <td>50</td>\n",
       "      <td>34</td>\n",
       "    </tr>\n",
       "    <tr>\n",
       "      <th>12</th>\n",
       "      <td>55</td>\n",
       "      <td>56</td>\n",
       "    </tr>\n",
       "    <tr>\n",
       "      <th>13</th>\n",
       "      <td>60</td>\n",
       "      <td>13</td>\n",
       "    </tr>\n",
       "    <tr>\n",
       "      <th>14</th>\n",
       "      <td>65</td>\n",
       "      <td>27</td>\n",
       "    </tr>\n",
       "  </tbody>\n",
       "</table>\n",
       "</div>"
      ],
      "text/plain": [
       "    values  values2\n",
       "0       10       23\n",
       "1       15       23\n",
       "2       20        4\n",
       "3       25        5\n",
       "4       25        1\n",
       "5       30       34\n",
       "6       35       56\n",
       "7       35       67\n",
       "8       35        8\n",
       "9       40       44\n",
       "10      45       56\n",
       "11      50       34\n",
       "12      55       56\n",
       "13      60       13\n",
       "14      65       27"
      ]
     },
     "execution_count": 15,
     "metadata": {},
     "output_type": "execute_result"
    }
   ],
   "source": [
    "import pandas as pd\n",
    "import numpy as np\n",
    "data = ({'values': [10, 15, 20, 25, 25, 30, 35, 35, 35, 40, 45, 50, 55, 60, 65],\n",
    "        'values2': [23,23,4,5,1,34,56,67,8,44,56,34,56,13,27]})\n",
    "df = pd.DataFrame(data)\n",
    "df\n"
   ]
  },
  {
   "cell_type": "code",
   "execution_count": 19,
   "id": "03dac05e-b693-4391-b502-d4228aa9b0c3",
   "metadata": {},
   "outputs": [
    {
     "data": {
      "text/plain": [
       "36.333333333333336"
      ]
     },
     "execution_count": 19,
     "metadata": {},
     "output_type": "execute_result"
    }
   ],
   "source": [
    "average_df = df['values'].mean()\n",
    "average_df"
   ]
  },
  {
   "cell_type": "code",
   "execution_count": 27,
   "id": "0ea30d18-d435-42e9-88e4-1a4082c68601",
   "metadata": {},
   "outputs": [
    {
     "data": {
      "text/plain": [
       "35.0"
      ]
     },
     "execution_count": 27,
     "metadata": {},
     "output_type": "execute_result"
    }
   ],
   "source": [
    "median_df = df['values'].median()\n",
    "median_df"
   ]
  },
  {
   "cell_type": "code",
   "execution_count": 29,
   "id": "481dda43-ecc3-4e83-81a8-f3a8bc6998f5",
   "metadata": {},
   "outputs": [
    {
     "data": {
      "text/plain": [
       "0    35\n",
       "Name: values, dtype: int64"
      ]
     },
     "execution_count": 29,
     "metadata": {},
     "output_type": "execute_result"
    }
   ],
   "source": [
    "mode_df = df['values'].mode()\n",
    "mode_df"
   ]
  },
  {
   "cell_type": "code",
   "execution_count": 33,
   "id": "b20bd97a-98b7-4a69-8f06-68d6bf0e0885",
   "metadata": {},
   "outputs": [
    {
     "data": {
      "text/plain": [
       "265.9523809523809"
      ]
     },
     "execution_count": 33,
     "metadata": {},
     "output_type": "execute_result"
    }
   ],
   "source": [
    "varience_df = df['values'].var()\n",
    "varience_df"
   ]
  },
  {
   "cell_type": "code",
   "execution_count": 45,
   "id": "9b2af519-ffa4-4d10-8187-2458f58c852a",
   "metadata": {},
   "outputs": [
    {
     "data": {
      "text/plain": [
       "16.308046509388575"
      ]
     },
     "execution_count": 45,
     "metadata": {},
     "output_type": "execute_result"
    }
   ],
   "source": [
    "std_df = df['values'].std()\n",
    "std_df"
   ]
  },
  {
   "cell_type": "code",
   "execution_count": 53,
   "id": "c1232152-07ae-449c-8838-521ed2a47e0b",
   "metadata": {},
   "outputs": [
    {
     "data": {
      "text/plain": [
       "0.21038039026925262"
      ]
     },
     "execution_count": 53,
     "metadata": {},
     "output_type": "execute_result"
    }
   ],
   "source": [
    "skew_df = df['values'].skew()\n",
    "skew_df"
   ]
  },
  {
   "cell_type": "code",
   "execution_count": 57,
   "id": "6c62f9ef-a1cb-45be-94ad-947d49faca7b",
   "metadata": {},
   "outputs": [
    {
     "data": {
      "text/plain": [
       "-0.7474893429125613"
      ]
     },
     "execution_count": 57,
     "metadata": {},
     "output_type": "execute_result"
    }
   ],
   "source": [
    "kurtosis_df = df['values'].kurt()\n",
    "kurtosis_df"
   ]
  },
  {
   "cell_type": "code",
   "execution_count": 65,
   "id": "79166929-d900-4416-9175-d53586736629",
   "metadata": {},
   "outputs": [
    {
     "data": {
      "text/html": [
       "<div>\n",
       "<style scoped>\n",
       "    .dataframe tbody tr th:only-of-type {\n",
       "        vertical-align: middle;\n",
       "    }\n",
       "\n",
       "    .dataframe tbody tr th {\n",
       "        vertical-align: top;\n",
       "    }\n",
       "\n",
       "    .dataframe thead th {\n",
       "        text-align: right;\n",
       "    }\n",
       "</style>\n",
       "<table border=\"1\" class=\"dataframe\">\n",
       "  <thead>\n",
       "    <tr style=\"text-align: right;\">\n",
       "      <th></th>\n",
       "      <th>values</th>\n",
       "      <th>values2</th>\n",
       "    </tr>\n",
       "  </thead>\n",
       "  <tbody>\n",
       "    <tr>\n",
       "      <th>count</th>\n",
       "      <td>15.000000</td>\n",
       "      <td>15.000000</td>\n",
       "    </tr>\n",
       "    <tr>\n",
       "      <th>mean</th>\n",
       "      <td>36.333333</td>\n",
       "      <td>30.066667</td>\n",
       "    </tr>\n",
       "    <tr>\n",
       "      <th>std</th>\n",
       "      <td>16.308047</td>\n",
       "      <td>21.789469</td>\n",
       "    </tr>\n",
       "    <tr>\n",
       "      <th>min</th>\n",
       "      <td>10.000000</td>\n",
       "      <td>1.000000</td>\n",
       "    </tr>\n",
       "    <tr>\n",
       "      <th>25%</th>\n",
       "      <td>25.000000</td>\n",
       "      <td>10.500000</td>\n",
       "    </tr>\n",
       "    <tr>\n",
       "      <th>50%</th>\n",
       "      <td>35.000000</td>\n",
       "      <td>27.000000</td>\n",
       "    </tr>\n",
       "    <tr>\n",
       "      <th>75%</th>\n",
       "      <td>47.500000</td>\n",
       "      <td>50.000000</td>\n",
       "    </tr>\n",
       "    <tr>\n",
       "      <th>max</th>\n",
       "      <td>65.000000</td>\n",
       "      <td>67.000000</td>\n",
       "    </tr>\n",
       "  </tbody>\n",
       "</table>\n",
       "</div>"
      ],
      "text/plain": [
       "          values    values2\n",
       "count  15.000000  15.000000\n",
       "mean   36.333333  30.066667\n",
       "std    16.308047  21.789469\n",
       "min    10.000000   1.000000\n",
       "25%    25.000000  10.500000\n",
       "50%    35.000000  27.000000\n",
       "75%    47.500000  50.000000\n",
       "max    65.000000  67.000000"
      ]
     },
     "execution_count": 65,
     "metadata": {},
     "output_type": "execute_result"
    }
   ],
   "source": [
    "describe_df = df.describe()\n",
    "describe_df"
   ]
  },
  {
   "cell_type": "code",
   "execution_count": 77,
   "id": "af45bc28-1324-40bf-828d-6641b12c0b67",
   "metadata": {},
   "outputs": [
    {
     "name": "stdout",
     "output_type": "stream",
     "text": [
      "10.5\n",
      "27.0\n",
      "50.0\n"
     ]
    }
   ],
   "source": [
    "percentile25 = np.percentile(df['values2'],25)\n",
    "percentile50 = np.percentile(df['values2'],50)\n",
    "percentile75 = np.percentile(df['values2'],75)\n",
    "\n",
    "                    \n",
    "print(percentile25)\n",
    "print(percentile50)\n",
    "\n",
    "print(percentile75)"
   ]
  },
  {
   "cell_type": "code",
   "execution_count": 79,
   "id": "cdfd48a9-5c10-4cf5-9493-56b7faff77e7",
   "metadata": {},
   "outputs": [
    {
     "name": "stdout",
     "output_type": "stream",
     "text": [
      "Skewness: 0.21038039026925262\n",
      "Kurtosis: -0.7474893429125613\n"
     ]
    }
   ],
   "source": [
    "  import pandas as pd\n",
    "\n",
    "# Sample data\n",
    "data = {'values': [10, 15, 20, 25, 25, 30, 35, 35, 35, 40, 45, 50, 55, 60, 65]}\n",
    "df = pd.DataFrame(data)\n",
    "\n",
    "# Calculate skewness\n",
    "skewness = df['values'].skew()\n",
    "print(\"Skewness:\", skewness)\n",
    "\n",
    "# Calculate kurtosis\n",
    "kurtosis = df['values'].kurt()\n",
    "print(\"Kurtosis:\", kurtosis)\n"
   ]
  },
  {
   "cell_type": "code",
   "execution_count": 81,
   "id": "011ce85b-16f1-4b19-ab9a-de4236a7565d",
   "metadata": {},
   "outputs": [
    {
     "name": "stdout",
     "output_type": "stream",
     "text": [
      "25th Percentile: 32.5\n",
      "50th Percentile (Median): 55.0\n",
      "75th Percentile: 77.5\n"
     ]
    }
   ],
   "source": [
    "import numpy as np\n",
    "\n",
    "# Sample data\n",
    "data = [10, 20, 30, 40, 50, 60, 70, 80, 90, 100]\n",
    "\n",
    "# Calculate the 25th, 50th, and 75th percentiles\n",
    "percentile_25 = np.percentile(data, 25)\n",
    "percentile_50 = np.percentile(data, 50)  # Median\n",
    "percentile_75 = np.percentile(data, 75)\n",
    "\n",
    "print(\"25th Percentile:\", percentile_25)\n",
    "print(\"50th Percentile (Median):\", percentile_50)\n",
    "print(\"75th Percentile:\", percentile_75)\n"
   ]
  },
  {
   "cell_type": "code",
   "execution_count": null,
   "id": "58766952-4f78-4a49-adab-64c313c9e72c",
   "metadata": {},
   "outputs": [],
   "source": []
  }
 ],
 "metadata": {
  "kernelspec": {
   "display_name": "Python 3 (ipykernel)",
   "language": "python",
   "name": "python3"
  },
  "language_info": {
   "codemirror_mode": {
    "name": "ipython",
    "version": 3
   },
   "file_extension": ".py",
   "mimetype": "text/x-python",
   "name": "python",
   "nbconvert_exporter": "python",
   "pygments_lexer": "ipython3",
   "version": "3.12.4"
  }
 },
 "nbformat": 4,
 "nbformat_minor": 5
}
