{
 "cells": [
  {
   "cell_type": "markdown",
   "id": "1b60da4f-81cf-4c6c-90fe-a2e9e8f7cf1b",
   "metadata": {},
   "source": [
    "  print(\"numpy\")"
   ]
  },
  {
   "cell_type": "code",
   "execution_count": 4,
   "id": "6f395ffa-4da5-459f-b0ca-e0566bd50c0d",
   "metadata": {},
   "outputs": [],
   "source": [
    "import numpy as np"
   ]
  },
  {
   "cell_type": "code",
   "execution_count": 8,
   "id": "f3aa7e20-2fe8-452f-84ca-faa701d2c448",
   "metadata": {},
   "outputs": [
    {
     "name": "stdout",
     "output_type": "stream",
     "text": [
      "np\n"
     ]
    }
   ],
   "source": [
    "print(np)"
   ]
  },
  {
   "cell_type": "code",
   "execution_count": 195,
   "id": "ee290d06-bc67-47e5-8851-77024cf11c8c",
   "metadata": {},
   "outputs": [
    {
     "name": "stdout",
     "output_type": "stream",
     "text": [
      "Array from 0 to 100: [ 0 10 20 30 40 50 60 70 80 90]\n"
     ]
    }
   ],
   "source": [
    "import numpy as np\n",
    "array1 = np.arange(0,100,10)\n",
    "print(\"Array from 0 to 100:\",   array1)\n"
   ]
  },
  {
   "cell_type": "code",
   "execution_count": 37,
   "id": "46cf803f-6b9a-4bd5-abd4-6e26a59561a5",
   "metadata": {},
   "outputs": [
    {
     "name": "stdout",
     "output_type": "stream",
     "text": [
      "10 evenly spaced values from 0 to 100: [ 0. 10. 20. 30. 40. 50. 60. 70. 80. 90.]\n"
     ]
    }
   ],
   "source": [
    "\n",
    "array2 = np.linspace(0, 100,10,False)\n",
    "print(\"10 evenly spaced values from 0 to 100:\", array2)\n"
   ]
  },
  {
   "cell_type": "markdown",
   "id": "233f96a1-4e1b-4f46-a426-06e0256afbb6",
   "metadata": {},
   "source": [
    "# excluding end point\n"
   ]
  },
  {
   "cell_type": "code",
   "execution_count": 29,
   "id": "8dc18f24-f18c-42c4-84fe-ae19864e27bb",
   "metadata": {},
   "outputs": [
    {
     "name": "stdout",
     "output_type": "stream",
     "text": [
      "5 values from 0 to 1 (excluding endpoint): [0.  0.2 0.4 0.6 0.8]\n"
     ]
    }
   ],
   "source": [
    "\n",
    "array3= np.linspace(0, 1, num=5, endpoint=False)\n",
    "\n",
    "print(\"5 values from 0 to 1 (excluding endpoint):\", array3)\n"
   ]
  },
  {
   "cell_type": "code",
   "execution_count": 71,
   "id": "7bd461f6-34b7-4a63-8cc0-271a2e5485d7",
   "metadata": {},
   "outputs": [
    {
     "name": "stdout",
     "output_type": "stream",
     "text": [
      "3x3 Identity Matrix:\n",
      " [[0. 1. 0.]\n",
      " [0. 0. 1.]\n",
      " [0. 0. 0.]]\n"
     ]
    }
   ],
   "source": [
    "import numpy as np\n",
    "\n",
    "# Create a 3x3 identity matrix\n",
    "identity_matrix = np.eye(3,k=1)\n",
    "print(\"3x3 Identity Matrix:\\n\", identity_matrix)\n"
   ]
  },
  {
   "cell_type": "code",
   "execution_count": 198,
   "id": "ca9ac790-868b-4344-8c25-30620347453d",
   "metadata": {},
   "outputs": [
    {
     "name": "stdout",
     "output_type": "stream",
     "text": [
      "[0.07978094 0.83347446 0.83463743]\n"
     ]
    }
   ],
   "source": [
    "import numpy as np\n",
    "random_array = np.random.rand(3)\n",
    "print(random_array)\n"
   ]
  },
  {
   "cell_type": "code",
   "execution_count": 67,
   "id": "dd86a0c5-7c10-436e-9920-faab90941469",
   "metadata": {},
   "outputs": [
    {
     "name": "stdout",
     "output_type": "stream",
     "text": [
      "[[14 18 18]\n",
      " [14 18 14]\n",
      " [13 10 13]]\n"
     ]
    }
   ],
   "source": [
    "import numpy as np\n",
    "random_array = np.random.randint(10, 20,(3,3))\n",
    "print(random_array)"
   ]
  },
  {
   "cell_type": "code",
   "execution_count": 200,
   "id": "4f384b68-36ca-4ce0-be50-5650a7efc27f",
   "metadata": {},
   "outputs": [
    {
     "name": "stdout",
     "output_type": "stream",
     "text": [
      "[-0.86974992 -1.0962084  -0.1040069   0.38151095  0.51328466]\n"
     ]
    }
   ],
   "source": [
    "# Generate an array of 5 random numbers from a normal distribution\n",
    "random_array = np.random.normal(loc=0, scale=1, size=5)\n",
    "print(random_array)\n"
   ]
  },
  {
   "cell_type": "code",
   "execution_count": 81,
   "id": "369aa5d9-b1b1-474b-9d87-1524d1038769",
   "metadata": {},
   "outputs": [
    {
     "data": {
      "text/plain": [
       "array([[1, 0, 0, 0],\n",
       "       [0, 1, 0, 0],\n",
       "       [0, 0, 1, 0],\n",
       "       [0, 0, 0, 1]])"
      ]
     },
     "execution_count": 81,
     "metadata": {},
     "output_type": "execute_result"
    }
   ],
   "source": [
    "import numpy as np\n",
    "np.identity(4,dtype=int)"
   ]
  },
  {
   "cell_type": "code",
   "execution_count": 85,
   "id": "5c51a6e9-f17d-4282-9b1b-36eb57f0400d",
   "metadata": {},
   "outputs": [
    {
     "data": {
      "text/plain": [
       "array([[1, 0, 0, 0],\n",
       "       [0, 1, 0, 0],\n",
       "       [0, 0, 1, 0],\n",
       "       [0, 0, 0, 1]])"
      ]
     },
     "execution_count": 85,
     "metadata": {},
     "output_type": "execute_result"
    }
   ],
   "source": [
    "np.eye(4,dtype=int)"
   ]
  },
  {
   "cell_type": "code",
   "execution_count": 55,
   "id": "f26f91ce-7330-4d19-b6d1-de317fdcee1f",
   "metadata": {},
   "outputs": [
    {
     "data": {
      "text/plain": [
       "array([[0, 0, 0, 0],\n",
       "       [0, 0, 0, 0],\n",
       "       [0, 0, 0, 0],\n",
       "       [0, 0, 0, 0]])"
      ]
     },
     "execution_count": 55,
     "metadata": {},
     "output_type": "execute_result"
    }
   ],
   "source": [
    "import numpy as np\n",
    "np.zeros((4,4),dtype=int)"
   ]
  },
  {
   "cell_type": "code",
   "execution_count": 97,
   "id": "ec23ee63-a5fc-472c-bbc6-230d393562cb",
   "metadata": {},
   "outputs": [
    {
     "name": "stdout",
     "output_type": "stream",
     "text": [
      "[2 5]\n"
     ]
    }
   ],
   "source": [
    "import numpy as np\n",
    "m = ([[1,2,3],\n",
    "      [3,4,5],\n",
    "      [4,5,6]])\n",
    "diagonal=np.diag(m,k=1)\n",
    "print(diagonal)"
   ]
  },
  {
   "cell_type": "code",
   "execution_count": null,
   "id": "3b0064ff-3aff-4e19-88f7-19270cc99a76",
   "metadata": {},
   "outputs": [],
   "source": []
  },
  {
   "cell_type": "code",
   "execution_count": 65,
   "id": "e9d654bb-cbd1-4173-9d4f-3dad25202d9e",
   "metadata": {},
   "outputs": [
    {
     "data": {
      "text/plain": [
       "array([[1, 1, 1, 1],\n",
       "       [1, 1, 1, 1],\n",
       "       [1, 1, 1, 1],\n",
       "       [1, 1, 1, 1]])"
      ]
     },
     "execution_count": 65,
     "metadata": {},
     "output_type": "execute_result"
    }
   ],
   "source": [
    "np.ones((4,4),dtype=int)"
   ]
  },
  {
   "cell_type": "code",
   "execution_count": 79,
   "id": "e145f1f5-a155-4f98-815b-5d8aa9bde513",
   "metadata": {},
   "outputs": [
    {
     "data": {
      "text/plain": [
       "array([[1., 0., 0., 0.],\n",
       "       [0., 1., 0., 0.],\n",
       "       [0., 0., 1., 0.],\n",
       "       [0., 0., 0., 1.]])"
      ]
     },
     "execution_count": 79,
     "metadata": {},
     "output_type": "execute_result"
    }
   ],
   "source": [
    "np.eye(4)"
   ]
  },
  {
   "cell_type": "code",
   "execution_count": 121,
   "id": "3fbb4ee2-24e2-4248-bf21-6a1c0dfe72b0",
   "metadata": {},
   "outputs": [
    {
     "name": "stdout",
     "output_type": "stream",
     "text": [
      "[[1 2 3]\n",
      " [4 5 6]\n",
      " [7 8 9]]\n"
     ]
    }
   ],
   "source": [
    "a=np.arange(1,10).reshape(3,3)\n",
    "print(a)"
   ]
  },
  {
   "cell_type": "code",
   "execution_count": 125,
   "id": "f9f6bf46-6bf5-4805-81f7-a4f73c824f19",
   "metadata": {},
   "outputs": [
    {
     "data": {
      "text/plain": [
       "array([2, 6])"
      ]
     },
     "execution_count": 125,
     "metadata": {},
     "output_type": "execute_result"
    }
   ],
   "source": [
    "np.diag(a,k=1)"
   ]
  },
  {
   "cell_type": "markdown",
   "id": "4ba256c1-e75f-48ea-ba74-65dc2c8bc160",
   "metadata": {},
   "source": [
    "# reshape \n",
    "change shape of the array make it to different dimensions"
   ]
  },
  {
   "cell_type": "code",
   "execution_count": 132,
   "id": "48bf8ea5-6970-4b19-8f26-b6de912c8807",
   "metadata": {},
   "outputs": [
    {
     "name": "stdout",
     "output_type": "stream",
     "text": [
      "[[1 2]\n",
      " [3 4]\n",
      " [5 6]]\n"
     ]
    }
   ],
   "source": [
    "\n",
    "import numpy as np\n",
    "\n",
    "array = np.array([1, 2, 3, 4, 5, 6])\n",
    "reshaped_array = array.reshape((3, 2))\n",
    "print(reshaped_array)\n"
   ]
  },
  {
   "cell_type": "code",
   "execution_count": 136,
   "id": "c9cc74f0-6d29-43cf-919f-011adf158d0e",
   "metadata": {},
   "outputs": [
    {
     "name": "stdout",
     "output_type": "stream",
     "text": [
      "[[[1]\n",
      "  [2]\n",
      "  [3]]\n",
      "\n",
      " [[4]\n",
      "  [5]\n",
      "  [6]]]\n"
     ]
    }
   ],
   "source": [
    "array = np.array([1,2,3,4,5,6])\n",
    "re_array=array.reshape((2,3,1))\n",
    "print(re_array)"
   ]
  },
  {
   "cell_type": "markdown",
   "id": "e5355dec-a8e2-41c2-8947-baf2d75f102d",
   "metadata": {},
   "source": [
    "Using -1 to infer a dimension: If one of the dimensions is -1, NumPy will automatically calculate it based on the size of the array and the other dimensions."
   ]
  },
  {
   "cell_type": "code",
   "execution_count": 140,
   "id": "ce200029-d7ac-40a4-bd49-0ada1e21424b",
   "metadata": {},
   "outputs": [
    {
     "name": "stdout",
     "output_type": "stream",
     "text": [
      "[[1 2]\n",
      " [3 4]\n",
      " [5 6]]\n"
     ]
    }
   ],
   "source": [
    "array = np.array([1,2,3,4,5,6])\n",
    "re_array=array.reshape(-1,2)\n",
    "print(re_array)"
   ]
  },
  {
   "cell_type": "markdown",
   "id": "1046b484-6e7a-469b-bec6-127fb4a2bb52",
   "metadata": {},
   "source": [
    "# ravel()\n",
    "it used to flatten an array \n",
    "to an one diamensional array"
   ]
  },
  {
   "cell_type": "code",
   "execution_count": 145,
   "id": "f1443475-cd2e-4ddd-bccc-cd33f2d079e5",
   "metadata": {},
   "outputs": [
    {
     "name": "stdout",
     "output_type": "stream",
     "text": [
      "[1 2 3 4 5 6]\n"
     ]
    }
   ],
   "source": [
    "import numpy as np\n",
    "\n",
    "array = np.array([[1, 2, 3], \n",
    "                  [4, 5, 6]])\n",
    "flattened_array = array.ravel()\n",
    "print(flattened_array)\n",
    "\n"
   ]
  },
  {
   "cell_type": "code",
   "execution_count": 161,
   "id": "9254385e-1e13-4815-87ae-a4eddfeb74d4",
   "metadata": {},
   "outputs": [
    {
     "name": "stdout",
     "output_type": "stream",
     "text": [
      "[1 2 3 3 7 8 2 6]\n"
     ]
    }
   ],
   "source": [
    "array1=np.array([[[1,2],[3,3]],\n",
    "                 [[7,8],[2,6]]])\n",
    "flatten=array1.ravel()\n",
    "print(flatten)"
   ]
  },
  {
   "cell_type": "markdown",
   "id": "bee87798-71a5-48d2-84ac-be834ac31255",
   "metadata": {},
   "source": [
    "# flatten\n",
    "it create new memmory array but in ravel it changes the original array"
   ]
  },
  {
   "cell_type": "code",
   "execution_count": 165,
   "id": "65bdeca6-01fa-40e3-beed-057dd2c785de",
   "metadata": {},
   "outputs": [
    {
     "name": "stdout",
     "output_type": "stream",
     "text": [
      "Raveled Array:\n",
      "[10  2  3  4  5  6]\n",
      "Original Array After ravel():\n",
      "[[10  2  3]\n",
      " [ 4  5  6]]\n"
     ]
    }
   ],
   "source": [
    "import numpy as np\n",
    "\n",
    "# Create a 2D array\n",
    "array = np.array([[1, 2, 3], \n",
    "                  [4, 5, 6]])\n",
    "\n",
    "# Use ravel() to flatten the array\n",
    "raveled_array = array.ravel()\n",
    "\n",
    "# Modify the first element of the raveled array\n",
    "raveled_array[0] = 10  \n",
    "\n",
    "print(\"Raveled Array:\")\n",
    "print(raveled_array)  # Output: [10  2  3  4  5  6]\n",
    "print(\"Original Array After ravel():\")\n",
    "print(array)         # Output: [[10  2  3]\n",
    "                     #          [ 4  5  6]]\n"
   ]
  },
  {
   "cell_type": "code",
   "execution_count": 167,
   "id": "3903d88d-d9ce-46ae-b2a9-3b9ea3814a9a",
   "metadata": {},
   "outputs": [
    {
     "name": "stdout",
     "output_type": "stream",
     "text": [
      "Raveled Array:\n",
      "[10  2  3  4  5  6]\n",
      "Original Array After flatten():\n",
      "[[1 2 3]\n",
      " [4 5 6]]\n"
     ]
    }
   ],
   "source": [
    "import numpy as np\n",
    "\n",
    "# Create a 2D array\n",
    "array = np.array([[1, 2, 3], \n",
    "                  [4, 5, 6]])\n",
    "\n",
    "# Use ravel() to flatten the array\n",
    "raveled_array = array.flatten()\n",
    "\n",
    "# Modify the first element of the raveled array\n",
    "raveled_array[0] = 10  \n",
    "\n",
    "print(\"Raveled Array:\")\n",
    "print(raveled_array)  # Output: [10  2  3  4  5  6]\n",
    "print(\"Original Array After flatten():\")\n",
    "print(array)         # Output: [[10  2  3]\n",
    "                     #          [ 4  5  6]]\n"
   ]
  },
  {
   "cell_type": "markdown",
   "id": "a9187665-9772-44ec-b46e-8a3e64bcea7f",
   "metadata": {},
   "source": [
    "# 3 dimensional array"
   ]
  },
  {
   "cell_type": "code",
   "execution_count": 180,
   "id": "a9fb9dbd-d88e-4629-a3ce-77dc671d3f43",
   "metadata": {},
   "outputs": [
    {
     "name": "stdout",
     "output_type": "stream",
     "text": [
      "[[[2 3]\n",
      "  [3 4]]\n",
      "\n",
      " [[4 5]\n",
      "  [6 7]]]\n"
     ]
    }
   ],
   "source": [
    "arr = np.array([\n",
    "    [[2,3],[3,4]],\n",
    "    [[4,5],[6,7]]\n",
    "])\n"
   ]
  },
  {
   "cell_type": "code",
   "execution_count": 184,
   "id": "093f6af5-d157-4ab0-afc5-3ed17888d226",
   "metadata": {},
   "outputs": [
    {
     "data": {
      "text/plain": [
       "array([[[2, 3],\n",
       "        [3, 4]],\n",
       "\n",
       "       [[4, 5],\n",
       "        [6, 7]]])"
      ]
     },
     "execution_count": 184,
     "metadata": {},
     "output_type": "execute_result"
    }
   ],
   "source": [
    "arr"
   ]
  },
  {
   "cell_type": "code",
   "execution_count": 13,
   "id": "35205aa5-b1a3-4998-9143-f4719be0cdbf",
   "metadata": {},
   "outputs": [
    {
     "data": {
      "text/plain": [
       "array([ 1,  2,  3,  4,  5,  6,  7,  8,  9, 10, 11, 12])"
      ]
     },
     "execution_count": 13,
     "metadata": {},
     "output_type": "execute_result"
    }
   ],
   "source": [
    "arr=np.array([1,2,3,4,5,6,7,8,9,10,11,12])\n",
    "arr"
   ]
  },
  {
   "cell_type": "code",
   "execution_count": 15,
   "id": "c18afc31-6bcc-4228-be22-8a5d31b7418c",
   "metadata": {},
   "outputs": [
    {
     "data": {
      "text/plain": [
       "(12,)"
      ]
     },
     "execution_count": 15,
     "metadata": {},
     "output_type": "execute_result"
    }
   ],
   "source": [
    "arr.shape"
   ]
  },
  {
   "cell_type": "code",
   "execution_count": 17,
   "id": "0a4cb5ad-2829-4dbd-8063-5f6cb6eb4888",
   "metadata": {},
   "outputs": [
    {
     "data": {
      "text/plain": [
       "array([[[ 1,  2,  3],\n",
       "        [ 4,  5,  6]],\n",
       "\n",
       "       [[ 7,  8,  9],\n",
       "        [10, 11, 12]]])"
      ]
     },
     "execution_count": 17,
     "metadata": {},
     "output_type": "execute_result"
    }
   ],
   "source": [
    "arr2=arr.reshape(2,2,3)\n",
    "arr2"
   ]
  },
  {
   "cell_type": "code",
   "execution_count": 21,
   "id": "a64da43a-5d75-413f-b42a-8aa51ffaa6aa",
   "metadata": {},
   "outputs": [
    {
     "data": {
      "text/plain": [
       "(2, 2, 3)"
      ]
     },
     "execution_count": 21,
     "metadata": {},
     "output_type": "execute_result"
    }
   ],
   "source": [
    "arr2.shape"
   ]
  },
  {
   "cell_type": "code",
   "execution_count": 280,
   "id": "10809ea2-f3d0-48ee-b275-abac2b43dec6",
   "metadata": {},
   "outputs": [
    {
     "data": {
      "text/plain": [
       "array([ 1,  2,  3,  4,  5,  6,  7,  8,  9, 10, 11, 12])"
      ]
     },
     "execution_count": 280,
     "metadata": {},
     "output_type": "execute_result"
    }
   ],
   "source": [
    "arr3=arr2.reshape(-1)\n",
    "arr3"
   ]
  },
  {
   "cell_type": "markdown",
   "id": "f98c3b05-6a05-4a6b-85ca-2e3053625486",
   "metadata": {},
   "source": [
    "# concatenation \n",
    "adding two array"
   ]
  },
  {
   "cell_type": "code",
   "execution_count": 285,
   "id": "3a3af6c5-13f1-4b8d-a025-359b25f822d9",
   "metadata": {},
   "outputs": [
    {
     "data": {
      "text/plain": [
       "array([[1, 2, 3],\n",
       "       [4, 5, 6],\n",
       "       [7, 8, 9]])"
      ]
     },
     "execution_count": 285,
     "metadata": {},
     "output_type": "execute_result"
    }
   ],
   "source": [
    "ar1 =np.arange(1,10)\n",
    "a"
   ]
  },
  {
   "cell_type": "code",
   "execution_count": 303,
   "id": "daac4cf2-1048-4bce-b9c7-0d0a0afe077a",
   "metadata": {},
   "outputs": [
    {
     "data": {
      "text/plain": [
       "array([[ 9, 10, 11],\n",
       "       [12, 13, 14],\n",
       "       [15, 16, 17]])"
      ]
     },
     "execution_count": 303,
     "metadata": {},
     "output_type": "execute_result"
    }
   ],
   "source": [
    "b=np.arange(9,18).reshape(3,3)\n",
    "b\n"
   ]
  },
  {
   "cell_type": "code",
   "execution_count": 305,
   "id": "c955102b-6aa9-4f0d-9969-1b1e6284813f",
   "metadata": {},
   "outputs": [
    {
     "data": {
      "text/plain": [
       "array([[ 1,  2,  3,  9, 10, 11],\n",
       "       [ 4,  5,  6, 12, 13, 14],\n",
       "       [ 7,  8,  9, 15, 16, 17]])"
      ]
     },
     "execution_count": 305,
     "metadata": {},
     "output_type": "execute_result"
    }
   ],
   "source": [
    "np.concatenate((a,b),axis=1)"
   ]
  },
  {
   "cell_type": "code",
   "execution_count": 309,
   "id": "28d29dea-3e14-4aca-89b1-10c485f389bf",
   "metadata": {},
   "outputs": [
    {
     "data": {
      "text/plain": [
       "array([[ 1,  2,  3],\n",
       "       [ 4,  5,  6],\n",
       "       [ 7,  8,  9],\n",
       "       [ 9, 10, 11],\n",
       "       [12, 13, 14],\n",
       "       [15, 16, 17]])"
      ]
     },
     "execution_count": 309,
     "metadata": {},
     "output_type": "execute_result"
    }
   ],
   "source": [
    "np.concatenate((a,b),axis=0)\n"
   ]
  },
  {
   "cell_type": "code",
   "execution_count": 311,
   "id": "d23ac244-3e7b-40d4-acf2-638731aaaa5c",
   "metadata": {},
   "outputs": [
    {
     "data": {
      "text/plain": [
       "array([[ 1,  2,  3],\n",
       "       [ 4,  5,  6],\n",
       "       [ 7,  8,  9],\n",
       "       [ 9, 10, 11],\n",
       "       [12, 13, 14],\n",
       "       [15, 16, 17]])"
      ]
     },
     "execution_count": 311,
     "metadata": {},
     "output_type": "execute_result"
    }
   ],
   "source": [
    "np.concatenate((a,b))"
   ]
  },
  {
   "cell_type": "code",
   "execution_count": 313,
   "id": "39549d24-4c5f-4937-946a-985d95c89ab7",
   "metadata": {},
   "outputs": [
    {
     "data": {
      "text/plain": [
       "array([[[ 1,  2,  3],\n",
       "        [ 4,  5,  6],\n",
       "        [ 7,  8,  9]],\n",
       "\n",
       "       [[ 9, 10, 11],\n",
       "        [12, 13, 14],\n",
       "        [15, 16, 17]]])"
      ]
     },
     "execution_count": 313,
     "metadata": {},
     "output_type": "execute_result"
    }
   ],
   "source": [
    "np.stack((a,b))"
   ]
  },
  {
   "cell_type": "markdown",
   "id": "03fc376c-39eb-40d1-9803-d947411471a3",
   "metadata": {},
   "source": [
    "it will create 2 dimesional array "
   ]
  },
  {
   "cell_type": "code",
   "execution_count": 315,
   "id": "5ff6dc02-8597-4e11-bb71-719a28254cb6",
   "metadata": {},
   "outputs": [
    {
     "data": {
      "text/plain": [
       "array([[[ 1,  2,  3],\n",
       "        [ 9, 10, 11]],\n",
       "\n",
       "       [[ 4,  5,  6],\n",
       "        [12, 13, 14]],\n",
       "\n",
       "       [[ 7,  8,  9],\n",
       "        [15, 16, 17]]])"
      ]
     },
     "execution_count": 315,
     "metadata": {},
     "output_type": "execute_result"
    }
   ],
   "source": [
    "np.stack((a,b),axis=1)"
   ]
  },
  {
   "cell_type": "code",
   "execution_count": 320,
   "id": "9eaca2f5-02df-4f02-b347-dc0a2020e954",
   "metadata": {},
   "outputs": [
    {
     "data": {
      "text/plain": [
       "array([[[ 1,  2,  3],\n",
       "        [ 4,  5,  6],\n",
       "        [ 7,  8,  9]],\n",
       "\n",
       "       [[ 9, 10, 11],\n",
       "        [12, 13, 14],\n",
       "        [15, 16, 17]]])"
      ]
     },
     "execution_count": 320,
     "metadata": {},
     "output_type": "execute_result"
    }
   ],
   "source": [
    "np.stack((a,b),axis=0)"
   ]
  },
  {
   "cell_type": "code",
   "execution_count": 322,
   "id": "b85bae7a-c547-48ad-9140-580267779dca",
   "metadata": {},
   "outputs": [
    {
     "data": {
      "text/plain": [
       "array([[1, 2, 3],\n",
       "       [4, 5, 6],\n",
       "       [7, 8, 9]])"
      ]
     },
     "execution_count": 322,
     "metadata": {},
     "output_type": "execute_result"
    }
   ],
   "source": [
    "ar1 =np.arange(1,10)\n",
    "a"
   ]
  },
  {
   "cell_type": "code",
   "execution_count": 324,
   "id": "1ed95417-d5b0-45a2-b428-ee7f5629beae",
   "metadata": {},
   "outputs": [
    {
     "data": {
      "text/plain": [
       "array([[ 9, 10, 11],\n",
       "       [12, 13, 14],\n",
       "       [15, 16, 17]])"
      ]
     },
     "execution_count": 324,
     "metadata": {},
     "output_type": "execute_result"
    }
   ],
   "source": [
    "b=np.arange(9,18).reshape(3,3)\n",
    "b\n"
   ]
  },
  {
   "cell_type": "code",
   "execution_count": 326,
   "id": "6325d8ba-732a-4f90-9b3a-aaeaa80c79c6",
   "metadata": {},
   "outputs": [
    {
     "data": {
      "text/plain": [
       "array([[ 1,  2,  3],\n",
       "       [ 4,  5,  6],\n",
       "       [ 7,  8,  9],\n",
       "       [ 9, 10, 11],\n",
       "       [12, 13, 14],\n",
       "       [15, 16, 17]])"
      ]
     },
     "execution_count": 326,
     "metadata": {},
     "output_type": "execute_result"
    }
   ],
   "source": [
    "np.vstack((a,b))"
   ]
  },
  {
   "cell_type": "code",
   "execution_count": 328,
   "id": "16f3f7bc-a3ed-4ea9-993e-c153573d698d",
   "metadata": {},
   "outputs": [
    {
     "data": {
      "text/plain": [
       "array([[ 1,  2,  3,  9, 10, 11],\n",
       "       [ 4,  5,  6, 12, 13, 14],\n",
       "       [ 7,  8,  9, 15, 16, 17]])"
      ]
     },
     "execution_count": 328,
     "metadata": {},
     "output_type": "execute_result"
    }
   ],
   "source": [
    "np.hstack((a,b))"
   ]
  },
  {
   "cell_type": "code",
   "execution_count": 330,
   "id": "99c88e40-081d-4c64-b2a6-3b8c3e4e8de0",
   "metadata": {},
   "outputs": [
    {
     "data": {
      "text/plain": [
       "array([[[ 1,  9],\n",
       "        [ 2, 10],\n",
       "        [ 3, 11]],\n",
       "\n",
       "       [[ 4, 12],\n",
       "        [ 5, 13],\n",
       "        [ 6, 14]],\n",
       "\n",
       "       [[ 7, 15],\n",
       "        [ 8, 16],\n",
       "        [ 9, 17]]])"
      ]
     },
     "execution_count": 330,
     "metadata": {},
     "output_type": "execute_result"
    }
   ],
   "source": [
    "np.dstack((a,b))"
   ]
  },
  {
   "cell_type": "markdown",
   "id": "fb075b15-27ec-4f55-8347-f3fe5cefbd3f",
   "metadata": {},
   "source": [
    "# array splitting\n",
    "split array "
   ]
  },
  {
   "cell_type": "markdown",
   "id": "a4920f21-da9a-4fc2-820c-4f406c7d9e86",
   "metadata": {},
   "source": [
    "if the array doesnt have equal divisions it show value error"
   ]
  },
  {
   "cell_type": "markdown",
   "id": "d81541cc-2657-4e5e-88be-9c6d31b7741f",
   "metadata": {},
   "source": [
    "array_split : it will split accorndingly "
   ]
  },
  {
   "cell_type": "markdown",
   "id": "c47d4466-d438-4033-9ebb-4144dbbced12",
   "metadata": {},
   "source": [
    "h split \n",
    ".\n",
    ".\n",
    "array-split(array,no of splits)\n",
    "# v split - a minimum of 2 d is needed "
   ]
  },
  {
   "cell_type": "code",
   "execution_count": 26,
   "id": "b8324d3b-365d-497b-95a7-dadd7b3c6332",
   "metadata": {},
   "outputs": [
    {
     "data": {
      "text/plain": [
       "array([ 1,  2,  3,  4,  5,  6,  7,  8,  9, 10])"
      ]
     },
     "execution_count": 26,
     "metadata": {},
     "output_type": "execute_result"
    }
   ],
   "source": [
    "import numpy as np\n",
    "a = np.arange(1,11)\n",
    "a"
   ]
  },
  {
   "cell_type": "code",
   "execution_count": 32,
   "id": "57c6cac3-1b29-45d6-b07f-8dff6d148524",
   "metadata": {},
   "outputs": [
    {
     "data": {
      "text/plain": [
       "[array([1, 2]), array([3, 4]), array([5, 6]), array([7, 8]), array([ 9, 10])]"
      ]
     },
     "execution_count": 32,
     "metadata": {},
     "output_type": "execute_result"
    }
   ],
   "source": [
    "np.array_split(a,5)"
   ]
  },
  {
   "cell_type": "code",
   "execution_count": 34,
   "id": "a213467d-b28c-45cc-bc5a-be91d8095988",
   "metadata": {},
   "outputs": [
    {
     "data": {
      "text/plain": [
       "[array([1, 2, 3, 4, 5]), array([ 6,  7,  8,  9, 10])]"
      ]
     },
     "execution_count": 34,
     "metadata": {},
     "output_type": "execute_result"
    }
   ],
   "source": [
    "np.hsplit(a,2)   "
   ]
  },
  {
   "cell_type": "code",
   "execution_count": 38,
   "id": "00363013-c002-4703-a967-e7bfc8c22f8c",
   "metadata": {},
   "outputs": [
    {
     "data": {
      "text/plain": [
       "[array([1, 2]), array([3, 4]), array([5, 6]), array([7, 8]), array([ 9, 10])]"
      ]
     },
     "execution_count": 38,
     "metadata": {},
     "output_type": "execute_result"
    }
   ],
   "source": [
    "np.hsplit(a,5)"
   ]
  },
  {
   "cell_type": "code",
   "execution_count": 35,
   "id": "4cfa4964-cc79-4ad9-9834-ca4ec71c2239",
   "metadata": {},
   "outputs": [
    {
     "data": {
      "text/plain": [
       "array([[[ 0,  1],\n",
       "        [ 2,  3]],\n",
       "\n",
       "       [[ 4,  5],\n",
       "        [ 6,  7]],\n",
       "\n",
       "       [[ 8,  9],\n",
       "        [10, 11]]])"
      ]
     },
     "execution_count": 35,
     "metadata": {},
     "output_type": "execute_result"
    }
   ],
   "source": [
    "a=np.arange(0,12).reshape((3,2,2))\n",
    "a\n",
    "#np.vsplit(a,3)\n",
    "\n"
   ]
  },
  {
   "cell_type": "code",
   "execution_count": 52,
   "id": "b6ca29e7-dc2c-40ac-a301-81b99f2a1c8c",
   "metadata": {},
   "outputs": [
    {
     "data": {
      "text/plain": [
       "array([[1, 2, 3],\n",
       "       [2, 3, 4]])"
      ]
     },
     "execution_count": 52,
     "metadata": {},
     "output_type": "execute_result"
    }
   ],
   "source": [
    "a= np.array([[1,2,3],\n",
    "            [2,3,4,]])\n",
    "a\n",
    "             "
   ]
  },
  {
   "cell_type": "code",
   "execution_count": 54,
   "id": "bf3b3530-7398-427b-a806-18efec969aba",
   "metadata": {},
   "outputs": [
    {
     "data": {
      "text/plain": [
       "[array([[1, 2, 3]]), array([[2, 3, 4]])]"
      ]
     },
     "execution_count": 54,
     "metadata": {},
     "output_type": "execute_result"
    }
   ],
   "source": [
    "np.vsplit(a,2)"
   ]
  },
  {
   "cell_type": "markdown",
   "id": "fec55ad3-134f-4593-a118-d309abfa9437",
   "metadata": {},
   "source": [
    "### mathematic funcions in numpy \n",
    "universal functions"
   ]
  },
  {
   "cell_type": "code",
   "execution_count": 12,
   "id": "a0c43ebf-7ee1-4efa-a269-f20e28917691",
   "metadata": {},
   "outputs": [
    {
     "data": {
      "text/plain": [
       "array([1, 2, 3, 4, 5, 6, 7, 8])"
      ]
     },
     "execution_count": 12,
     "metadata": {},
     "output_type": "execute_result"
    }
   ],
   "source": [
    "import numpy as np\n",
    "a= np.array([1,2,3,4,5,6,7,8])\n",
    "a\n"
   ]
  },
  {
   "cell_type": "code",
   "execution_count": 6,
   "id": "7d31483d-df85-480d-9356-afbf8089f9b8",
   "metadata": {},
   "outputs": [
    {
     "data": {
      "text/plain": [
       "array([1.        , 1.41421356, 1.73205081, 2.        , 2.23606798,\n",
       "       2.44948974, 2.64575131, 2.82842712])"
      ]
     },
     "execution_count": 6,
     "metadata": {},
     "output_type": "execute_result"
    }
   ],
   "source": [
    "np.sqrt(np1)"
   ]
  },
  {
   "cell_type": "code",
   "execution_count": 8,
   "id": "10378074-212a-4d1e-919c-fe18897f0b14",
   "metadata": {},
   "outputs": [
    {
     "data": {
      "text/plain": [
       "array([2.71828183e+00, 7.38905610e+00, 2.00855369e+01, 5.45981500e+01,\n",
       "       1.48413159e+02, 4.03428793e+02, 1.09663316e+03, 2.98095799e+03])"
      ]
     },
     "execution_count": 8,
     "metadata": {},
     "output_type": "execute_result"
    }
   ],
   "source": [
    "np.exp(np1)"
   ]
  },
  {
   "cell_type": "code",
   "execution_count": 10,
   "id": "42635a9f-99de-4ae7-9254-232f65618bc4",
   "metadata": {},
   "outputs": [
    {
     "data": {
      "text/plain": [
       "36"
      ]
     },
     "execution_count": 10,
     "metadata": {},
     "output_type": "execute_result"
    }
   ],
   "source": [
    "np.sum(np1)"
   ]
  },
  {
   "cell_type": "code",
   "execution_count": 14,
   "id": "d5fb02b6-3178-4e12-a536-f386b4626d8c",
   "metadata": {},
   "outputs": [
    {
     "data": {
      "text/plain": [
       "1"
      ]
     },
     "execution_count": 14,
     "metadata": {},
     "output_type": "execute_result"
    }
   ],
   "source": [
    "np.min(a)"
   ]
  },
  {
   "cell_type": "code",
   "execution_count": 16,
   "id": "1cc1cd3d-1b98-4e1d-b39a-b2fa1d1fb304",
   "metadata": {},
   "outputs": [
    {
     "data": {
      "text/plain": [
       "8"
      ]
     },
     "execution_count": 16,
     "metadata": {},
     "output_type": "execute_result"
    }
   ],
   "source": [
    "np.max(a)"
   ]
  },
  {
   "cell_type": "code",
   "execution_count": 18,
   "id": "9f01083a-3c66-4626-acea-0dd22dc4e678",
   "metadata": {},
   "outputs": [
    {
     "data": {
      "text/plain": [
       "2.29128784747792"
      ]
     },
     "execution_count": 18,
     "metadata": {},
     "output_type": "execute_result"
    }
   ],
   "source": [
    "np.std(a)"
   ]
  },
  {
   "cell_type": "code",
   "execution_count": 20,
   "id": "32f42e3d-ed46-425c-8c16-471a7c30b747",
   "metadata": {},
   "outputs": [
    {
     "data": {
      "text/plain": [
       "4.5"
      ]
     },
     "execution_count": 20,
     "metadata": {},
     "output_type": "execute_result"
    }
   ],
   "source": [
    "np.mean(a)"
   ]
  },
  {
   "cell_type": "markdown",
   "id": "0d1c3867-a92e-47f0-b35a-3243644347fc",
   "metadata": {},
   "source": [
    "# random numbers"
   ]
  },
  {
   "cell_type": "code",
   "execution_count": 109,
   "id": "691aff1a-1ab6-451d-b0ba-f3233f091423",
   "metadata": {},
   "outputs": [
    {
     "data": {
      "text/plain": [
       "array([1, 2, 3, 4, 5, 6, 7, 8])"
      ]
     },
     "execution_count": 109,
     "metadata": {},
     "output_type": "execute_result"
    }
   ],
   "source": [
    "a= np.array([1,2,3,4,5,6,7,8])\n",
    "a"
   ]
  },
  {
   "cell_type": "code",
   "execution_count": 111,
   "id": "b3b03e87-1894-4c87-a405-ce7833df74af",
   "metadata": {},
   "outputs": [
    {
     "data": {
      "text/plain": [
       "array([[0.97576809, 0.5521458 , 0.55796667, 0.33672244, 0.64769735,\n",
       "        0.30415326, 0.56859515, 0.98288258, 0.09679177, 0.18317278],\n",
       "       [0.19235012, 0.2844785 , 0.06422586, 0.69428797, 0.97536605,\n",
       "        0.89758877, 0.0994107 , 0.98146423, 0.65696599, 0.19557261]])"
      ]
     },
     "execution_count": 111,
     "metadata": {},
     "output_type": "execute_result"
    }
   ],
   "source": [
    "np.random.rand(2,10)"
   ]
  },
  {
   "cell_type": "code",
   "execution_count": 113,
   "id": "15abac70-21d7-40eb-bd8d-9df7141452f3",
   "metadata": {},
   "outputs": [
    {
     "data": {
      "text/plain": [
       "array([10, 19, 10, 10, 14, 13, 10, 18, 16, 17])"
      ]
     },
     "execution_count": 113,
     "metadata": {},
     "output_type": "execute_result"
    }
   ],
   "source": [
    "np.random.randint(10,20,10)"
   ]
  },
  {
   "cell_type": "code",
   "execution_count": 183,
   "id": "eba8a267-0b0d-4dde-91f1-9553ac3a266e",
   "metadata": {},
   "outputs": [
    {
     "data": {
      "text/plain": [
       "15.028854643673697"
      ]
     },
     "execution_count": 183,
     "metadata": {},
     "output_type": "execute_result"
    }
   ],
   "source": [
    "np.random.normal(0,8)"
   ]
  },
  {
   "cell_type": "code",
   "execution_count": 177,
   "id": "e79d12cc-5244-4136-b754-0ce55481fdc8",
   "metadata": {},
   "outputs": [
    {
     "data": {
      "text/plain": [
       "8"
      ]
     },
     "execution_count": 177,
     "metadata": {},
     "output_type": "execute_result"
    }
   ],
   "source": [
    "np.random.choice(a)"
   ]
  },
  {
   "cell_type": "code",
   "execution_count": 81,
   "id": "8f32f020-3f35-401d-8cbd-2ab3b655eb2f",
   "metadata": {},
   "outputs": [
    {
     "data": {
      "text/plain": [
       "array([2, 5, 7, 3, 4, 6, 1, 8])"
      ]
     },
     "execution_count": 81,
     "metadata": {},
     "output_type": "execute_result"
    }
   ],
   "source": [
    "np.random.permutation(a)"
   ]
  },
  {
   "cell_type": "markdown",
   "id": "27845fd5-2ba6-4721-b0b0-0432560603af",
   "metadata": {},
   "source": [
    "# loops in numpy\n"
   ]
  },
  {
   "cell_type": "code",
   "execution_count": 86,
   "id": "6dfd510b-dad9-408e-87f0-e8a227142c6a",
   "metadata": {},
   "outputs": [
    {
     "name": "stdout",
     "output_type": "stream",
     "text": [
      "1\n",
      "2\n",
      "3\n",
      "4\n",
      "5\n",
      "6\n",
      "7\n",
      "8\n"
     ]
    }
   ],
   "source": [
    "a=np.array([1,2,3,4,5,6,7,8])\n",
    "for x in a:\n",
    "    print(x)"
   ]
  },
  {
   "cell_type": "code",
   "execution_count": 279,
   "id": "05076dfa-a67e-4a96-aed1-183f3b0a75d9",
   "metadata": {},
   "outputs": [
    {
     "name": "stdout",
     "output_type": "stream",
     "text": [
      "1\n",
      "2\n",
      "3\n",
      "4\n",
      "5\n",
      "6\n"
     ]
    }
   ],
   "source": [
    "b=np.array([[1,2,3],[4,5,6]])\n",
    "for x in b:\n",
    "    #print(x)\n",
    "    for y in x:\n",
    "        print(y)\n",
    "       "
   ]
  },
  {
   "cell_type": "code",
   "execution_count": 102,
   "id": "831f1ae0-40f4-4e79-8793-c993e3c733e4",
   "metadata": {},
   "outputs": [
    {
     "name": "stdout",
     "output_type": "stream",
     "text": [
      "1\n",
      "2\n",
      "3\n",
      "4\n",
      "5\n",
      "6\n",
      "7\n",
      "8\n",
      "9\n"
     ]
    }
   ],
   "source": [
    "c=np.array([[\n",
    "    [1,2,3],\n",
    "    [4,5,6],\n",
    "    [7,8,9]\n",
    "]])\n",
    "for x in c:\n",
    "   # print(c)\n",
    "    for j in x:\n",
    "       # print(j)\n",
    "        for k in j:\n",
    "            print(k)\n",
    "    "
   ]
  },
  {
   "cell_type": "code",
   "execution_count": 112,
   "id": "07370829-6eb1-4c55-815b-9ebe1ace87bc",
   "metadata": {},
   "outputs": [
    {
     "name": "stdout",
     "output_type": "stream",
     "text": [
      "1\n",
      "2\n",
      "3\n",
      "4\n",
      "5\n",
      "6\n",
      "7\n",
      "8\n",
      "9\n"
     ]
    }
   ],
   "source": [
    "c=np.array([[\n",
    "    [1,2,3],\n",
    "    [4,5,6],\n",
    "    [7,8,9]\n",
    "]])\n",
    "for x in np.nditer(c):\n",
    "    print(x)\n",
    "    \n",
    "    "
   ]
  },
  {
   "cell_type": "markdown",
   "id": "ca546dd9-5b34-4e4e-8005-7af8dc324bb7",
   "metadata": {},
   "source": [
    "# ndenumerate\n",
    "foe enumeratng with index"
   ]
  },
  {
   "cell_type": "code",
   "execution_count": 10,
   "id": "2bf59e02-8dd0-4e9c-bfa9-9bbf14af5249",
   "metadata": {},
   "outputs": [
    {
     "data": {
      "text/plain": [
       "array([[ 0,  1,  2,  3,  4,  5],\n",
       "       [ 6,  7,  8,  9, 10, 11]])"
      ]
     },
     "execution_count": 10,
     "metadata": {},
     "output_type": "execute_result"
    }
   ],
   "source": [
    "import numpy as np\n",
    "a=np.arange(12).reshape(2,6)\n",
    "a"
   ]
  },
  {
   "cell_type": "code",
   "execution_count": 15,
   "id": "9d1210f5-8517-4b6a-afd4-538a610af586",
   "metadata": {},
   "outputs": [
    {
     "name": "stdout",
     "output_type": "stream",
     "text": [
      "((0, 0), 0)\n",
      "((0, 1), 1)\n",
      "((0, 2), 2)\n",
      "((0, 3), 3)\n",
      "((0, 4), 4)\n",
      "((0, 5), 5)\n",
      "((1, 0), 6)\n",
      "((1, 1), 7)\n",
      "((1, 2), 8)\n",
      "((1, 3), 9)\n",
      "((1, 4), 10)\n",
      "((1, 5), 11)\n"
     ]
    }
   ],
   "source": [
    "for index in np.ndenumerate(a):\n",
    "    print(index)\n"
   ]
  },
  {
   "cell_type": "code",
   "execution_count": 30,
   "id": "a55205f3-148d-41bd-8cbe-d139b90d9660",
   "metadata": {},
   "outputs": [
    {
     "name": "stdout",
     "output_type": "stream",
     "text": [
      "index: 0, value: [0 1 2 3 4 5]\n",
      "index: 1, value: [ 6  7  8  9 10 11]\n"
     ]
    }
   ],
   "source": [
    "for i in range(len(a)):\n",
    "    print(f\"index: {i}, value: {a[i]}\")\n",
    "    "
   ]
  },
  {
   "cell_type": "code",
   "execution_count": 68,
   "id": "d4d21795-ab68-4550-a665-a1193497ccaa",
   "metadata": {},
   "outputs": [
    {
     "name": "stdout",
     "output_type": "stream",
     "text": [
      "((0, 0), 0)\n",
      "((0, 1), 1)\n",
      "((0, 2), 2)\n",
      "((0, 3), 3)\n",
      "((0, 4), 4)\n",
      "((0, 5), 5)\n",
      "((1, 0), 6)\n",
      "((1, 1), 7)\n",
      "((1, 2), 8)\n",
      "((1, 3), 9)\n",
      "((1, 4), 10)\n",
      "((1, 5), 11)\n"
     ]
    }
   ],
   "source": [
    "for i in np.ndenumerate(a):\n",
    "    print(i)\n",
    "\n",
    "\n",
    "\n"
   ]
  },
  {
   "cell_type": "code",
   "execution_count": 40,
   "id": "d05f7f21-e64b-47e4-b1e9-55538777154d",
   "metadata": {},
   "outputs": [
    {
     "name": "stdout",
     "output_type": "stream",
     "text": [
      "0\n",
      "1\n",
      "2\n",
      "3\n",
      "4\n",
      "5\n",
      "6\n",
      "7\n",
      "8\n",
      "9\n",
      "10\n",
      "11\n"
     ]
    }
   ],
   "source": [
    "for i in np.nditer(a):\n",
    "    print(i)"
   ]
  },
  {
   "cell_type": "code",
   "execution_count": 44,
   "id": "f25b1c9e-a3c1-4262-82ca-f50468ecbcb3",
   "metadata": {},
   "outputs": [
    {
     "data": {
      "text/plain": [
       "array([[[ 0,  1],\n",
       "        [ 2,  3],\n",
       "        [ 4,  5]],\n",
       "\n",
       "       [[ 6,  7],\n",
       "        [ 8,  9],\n",
       "        [10, 11]]])"
      ]
     },
     "execution_count": 44,
     "metadata": {},
     "output_type": "execute_result"
    }
   ],
   "source": [
    "b=np.arange(12).reshape(2,3,2)\n",
    "b"
   ]
  },
  {
   "cell_type": "code",
   "execution_count": 46,
   "id": "aca46d45-9797-4de5-8bc8-81ca924300e6",
   "metadata": {},
   "outputs": [
    {
     "name": "stdout",
     "output_type": "stream",
     "text": [
      "0\n",
      "1\n",
      "2\n",
      "3\n",
      "4\n",
      "5\n",
      "6\n",
      "7\n",
      "8\n",
      "9\n",
      "10\n",
      "11\n"
     ]
    }
   ],
   "source": [
    "for i in np.nditer(a):\n",
    "    print(i)"
   ]
  },
  {
   "cell_type": "code",
   "execution_count": 60,
   "id": "462902ae-c539-41de-a2f5-24770ed1a509",
   "metadata": {},
   "outputs": [
    {
     "name": "stdout",
     "output_type": "stream",
     "text": [
      "index: 0,value: [ 6  7  8  9 10 11]\n",
      "index: 1,value: [ 6  7  8  9 10 11]\n"
     ]
    }
   ],
   "source": [
    "for index in range(len(a)):\n",
    "    print(f\"index: {index},value: {a[i]}\")\n"
   ]
  },
  {
   "cell_type": "markdown",
   "id": "39364cc7-f8ec-4ee6-8c20-43b521f7a1a6",
   "metadata": {},
   "source": [
    "# indexing using  .ndindex"
   ]
  },
  {
   "cell_type": "code",
   "execution_count": 64,
   "id": "b2d11ae0-6e13-4e95-94a2-693ef07b07f6",
   "metadata": {},
   "outputs": [
    {
     "name": "stdout",
     "output_type": "stream",
     "text": [
      "index: (0, 0),value: 0\n",
      "index: (0, 1),value: 1\n",
      "index: (0, 2),value: 2\n",
      "index: (0, 3),value: 3\n",
      "index: (0, 4),value: 4\n",
      "index: (0, 5),value: 5\n",
      "index: (1, 0),value: 6\n",
      "index: (1, 1),value: 7\n",
      "index: (1, 2),value: 8\n",
      "index: (1, 3),value: 9\n",
      "index: (1, 4),value: 10\n",
      "index: (1, 5),value: 11\n"
     ]
    }
   ],
   "source": [
    "for index in np.ndindex(a.shape):\n",
    "    print(f\"index: {index},value: {a[index]}\")"
   ]
  },
  {
   "cell_type": "markdown",
   "id": "beac0164-4b05-464e-9655-403d8e089ce5",
   "metadata": {},
   "source": [
    "# indexing using enumerate"
   ]
  },
  {
   "cell_type": "code",
   "execution_count": 88,
   "id": "ec936795-42fa-4bfd-8600-477daaf7d6cf",
   "metadata": {},
   "outputs": [
    {
     "name": "stdout",
     "output_type": "stream",
     "text": [
      "index: (0, 0),value: 0\n",
      "index: (0, 1),value: 1\n",
      "index: (0, 2),value: 2\n",
      "index: (0, 3),value: 3\n",
      "index: (0, 4),value: 4\n",
      "index: (0, 5),value: 5\n",
      "index: (1, 0),value: 6\n",
      "index: (1, 1),value: 7\n",
      "index: (1, 2),value: 8\n",
      "index: (1, 3),value: 9\n",
      "index: (1, 4),value: 10\n",
      "index: (1, 5),value: 11\n"
     ]
    }
   ],
   "source": [
    "for i,v in np.ndenumerate(a):\n",
    "    print(f\"index: {i},value: {v}\")\n",
    "\n"
   ]
  },
  {
   "cell_type": "markdown",
   "id": "2a9b52c8-0ad1-40a7-b7a0-07277afacda5",
   "metadata": {},
   "source": [
    "# looping over multiple arrays\n",
    "# zip()"
   ]
  },
  {
   "cell_type": "code",
   "execution_count": 107,
   "id": "9838f0c1-4886-468b-822d-24ac8aa176b6",
   "metadata": {},
   "outputs": [],
   "source": [
    "import pandas as np\n",
    "a1=np.array([1,2,3])\n",
    "a2=np.array([4,5,6])\n"
   ]
  },
  {
   "cell_type": "code",
   "execution_count": 109,
   "id": "9ce04adc-704e-4817-8824-b956048bd605",
   "metadata": {},
   "outputs": [
    {
     "name": "stdout",
     "output_type": "stream",
     "text": [
      "a1: 1, a2: 4\n",
      "a1: 2, a2: 5\n",
      "a1: 3, a2: 6\n"
     ]
    }
   ],
   "source": [
    "for a, b in zip(a1, a2):\n",
    "    print(f\"a1: {a}, a2: {b}\")"
   ]
  },
  {
   "cell_type": "code",
   "execution_count": 111,
   "id": "3b862cfb-cdf7-450d-96c2-5e2ee1cd1e8f",
   "metadata": {},
   "outputs": [
    {
     "name": "stdout",
     "output_type": "stream",
     "text": [
      "1 4\n",
      "2 5\n",
      "3 6\n"
     ]
    }
   ],
   "source": [
    "for a,b in zip(a1,a2):\n",
    "    print(a,b)"
   ]
  },
  {
   "cell_type": "markdown",
   "id": "6ca65217-357c-4528-90a2-944a9d01c632",
   "metadata": {},
   "source": [
    "# nditer in multiple arrays"
   ]
  },
  {
   "cell_type": "code",
   "execution_count": 174,
   "id": "b33daecc-7c4f-4a25-9fa1-fc5f4c3df8b3",
   "metadata": {},
   "outputs": [
    {
     "data": {
      "text/plain": [
       "array([1, 2, 3])"
      ]
     },
     "execution_count": 174,
     "metadata": {},
     "output_type": "execute_result"
    }
   ],
   "source": [
    "import numpy as np\n",
    "a=np.array([1,2,3])\n",
    "a"
   ]
  },
  {
   "cell_type": "code",
   "execution_count": 176,
   "id": "94a4820e-a2b6-45f1-99d4-ec42e8049116",
   "metadata": {},
   "outputs": [
    {
     "data": {
      "text/plain": [
       "array([[10],\n",
       "       [20]])"
      ]
     },
     "execution_count": 176,
     "metadata": {},
     "output_type": "execute_result"
    }
   ],
   "source": [
    "b=np.array([[10],[20]])\n",
    "b"
   ]
  },
  {
   "cell_type": "code",
   "execution_count": 180,
   "id": "f156d23c-08e5-4ca7-89dc-5f494effb93e",
   "metadata": {},
   "outputs": [
    {
     "name": "stdout",
     "output_type": "stream",
     "text": [
      "a: 1,b: 10\n",
      "a: 2,b: 10\n",
      "a: 3,b: 10\n",
      "a: 1,b: 20\n",
      "a: 2,b: 20\n",
      "a: 3,b: 20\n"
     ]
    }
   ],
   "source": [
    "for x,y in np.nditer([a,b]):\n",
    "    print(f\"a: {x},b: {y}\")"
   ]
  },
  {
   "cell_type": "code",
   "execution_count": 190,
   "id": "87559d60-9a18-4a31-aa47-3ffd48b2dac5",
   "metadata": {},
   "outputs": [
    {
     "data": {
      "text/plain": [
       "array([[1, 2, 3],\n",
       "       [4, 5, 6]])"
      ]
     },
     "execution_count": 190,
     "metadata": {},
     "output_type": "execute_result"
    }
   ],
   "source": [
    "import numpy as np\n",
    "a= np.array([[1,2,3],[4,5,6]])\n",
    "a"
   ]
  },
  {
   "cell_type": "code",
   "execution_count": 198,
   "id": "bbf4b02d-eb4a-406b-b655-aabd80c4febb",
   "metadata": {},
   "outputs": [
    {
     "data": {
      "text/plain": [
       "array([[ 1],\n",
       "       [78]])"
      ]
     },
     "execution_count": 198,
     "metadata": {},
     "output_type": "execute_result"
    }
   ],
   "source": [
    "b=np.array([[1],[78]])\n",
    "b"
   ]
  },
  {
   "cell_type": "code",
   "execution_count": 200,
   "id": "9ef371cd-7dc9-4b6b-b000-1cda53e9aa01",
   "metadata": {},
   "outputs": [
    {
     "name": "stdout",
     "output_type": "stream",
     "text": [
      "a: 1,b: 1\n",
      "a: 2,b: 1\n",
      "a: 3,b: 1\n",
      "a: 4,b: 78\n",
      "a: 5,b: 78\n",
      "a: 6,b: 78\n"
     ]
    }
   ],
   "source": [
    "for x,y in np.nditer([a,b]):\n",
    "    print(f\"a: {x},b: {y}\")"
   ]
  },
  {
   "cell_type": "code",
   "execution_count": 206,
   "id": "b5e74d69-210d-4f88-89bd-5bae2dcf0a94",
   "metadata": {},
   "outputs": [
    {
     "data": {
      "text/plain": [
       "(1, 2, 3)"
      ]
     },
     "execution_count": 206,
     "metadata": {},
     "output_type": "execute_result"
    }
   ],
   "source": [
    "a1=np.array([[[1,2,3],[4,5,6]]])\n",
    "np.shape(a1)"
   ]
  },
  {
   "cell_type": "code",
   "execution_count": 214,
   "id": "c4477ab0-d1ac-4c6c-9a21-05876304d5e5",
   "metadata": {},
   "outputs": [
    {
     "data": {
      "text/plain": [
       "(2, 2, 1)"
      ]
     },
     "execution_count": 214,
     "metadata": {},
     "output_type": "execute_result"
    }
   ],
   "source": [
    "a2=np.array([[[10], [20]], [[30], [40]]])  \n",
    "np.shape(a2)"
   ]
  },
  {
   "cell_type": "code",
   "execution_count": 220,
   "id": "6af96414-10da-47c9-b711-7aa3b672e646",
   "metadata": {},
   "outputs": [
    {
     "name": "stdout",
     "output_type": "stream",
     "text": [
      "1 10\n",
      "2 10\n",
      "3 10\n",
      "4 20\n",
      "5 20\n",
      "6 20\n",
      "1 30\n",
      "2 30\n",
      "3 30\n",
      "4 40\n",
      "5 40\n",
      "6 40\n"
     ]
    }
   ],
   "source": [
    "for x,y in np.nditer([a1,a2]):\n",
    "    print(x,y)"
   ]
  },
  {
   "cell_type": "markdown",
   "id": "210a6b24-3131-4ace-b23a-2a4d4be3f9cd",
   "metadata": {},
   "source": [
    "# vectorisation\n",
    "without using loops"
   ]
  },
  {
   "cell_type": "code",
   "execution_count": 223,
   "id": "be0062e1-0320-4ddb-b19a-2e8346acb8d9",
   "metadata": {},
   "outputs": [
    {
     "data": {
      "text/plain": [
       "array([ 6,  8, 10, 12, 14])"
      ]
     },
     "execution_count": 223,
     "metadata": {},
     "output_type": "execute_result"
    }
   ],
   "source": [
    "import numpy as np\n",
    "a=np.array([1,2,3,4,5])\n",
    "b=np.array([5,6,7,8,9])\n",
    "a+b   "
   ]
  },
  {
   "cell_type": "code",
   "execution_count": 225,
   "id": "c81665f6-7fd5-4072-9588-11d03e7d0128",
   "metadata": {},
   "outputs": [
    {
     "data": {
      "text/plain": [
       "array([ 5, 12, 21, 32, 45])"
      ]
     },
     "execution_count": 225,
     "metadata": {},
     "output_type": "execute_result"
    }
   ],
   "source": [
    "a*b"
   ]
  },
  {
   "cell_type": "code",
   "execution_count": 227,
   "id": "9b8255ec-51b1-460e-a374-19cea63ea96c",
   "metadata": {},
   "outputs": [
    {
     "data": {
      "text/plain": [
       "array([11, 12, 13, 14, 15])"
      ]
     },
     "execution_count": 227,
     "metadata": {},
     "output_type": "execute_result"
    }
   ],
   "source": [
    "a+10"
   ]
  },
  {
   "cell_type": "code",
   "execution_count": 229,
   "id": "fb979485-74d8-4341-a1f8-2bf3b89a89a4",
   "metadata": {},
   "outputs": [
    {
     "data": {
      "text/plain": [
       "array([ 2,  4,  6,  8, 10])"
      ]
     },
     "execution_count": 229,
     "metadata": {},
     "output_type": "execute_result"
    }
   ],
   "source": [
    "a*2"
   ]
  },
  {
   "cell_type": "code",
   "execution_count": 235,
   "id": "b7ce4af2-3a69-4594-a214-2e85ed0cb5a5",
   "metadata": {},
   "outputs": [
    {
     "data": {
      "text/plain": [
       "array([1, 2])"
      ]
     },
     "execution_count": 235,
     "metadata": {},
     "output_type": "execute_result"
    }
   ],
   "source": [
    "a[a<3]\n"
   ]
  },
  {
   "cell_type": "code",
   "execution_count": 241,
   "id": "a8a78345-11a8-4788-8af3-8d8cdca01286",
   "metadata": {},
   "outputs": [
    {
     "data": {
      "text/plain": [
       "array([3, 4, 5])"
      ]
     },
     "execution_count": 241,
     "metadata": {},
     "output_type": "execute_result"
    }
   ],
   "source": [
    "a[a>=3]"
   ]
  },
  {
   "cell_type": "markdown",
   "id": "981a300e-55a5-46d0-87bb-17007a12cd69",
   "metadata": {},
   "source": [
    "# condtional looping in arrays\n",
    "# use np.where()"
   ]
  },
  {
   "cell_type": "code",
   "execution_count": 250,
   "id": "8fa53d32-c957-4351-afdd-e288b07fad1a",
   "metadata": {},
   "outputs": [
    {
     "name": "stdout",
     "output_type": "stream",
     "text": [
      "[2 4 6 4 5]\n"
     ]
    }
   ],
   "source": [
    "import numpy as np\n",
    "a=np.array([1,2,3,4,5])\n",
    "a[a<=3]*=2\n",
    "print(a)\n"
   ]
  },
  {
   "cell_type": "markdown",
   "id": "c91e2d12-70a0-4582-be42-36eb242bb1ce",
   "metadata": {},
   "source": [
    "here upto 3 have been doubled and rest of number is written as its is\n",
    "\n",
    "1* 2 ,2* 2 ,3*2 ,4 ,5"
   ]
  },
  {
   "cell_type": "code",
   "execution_count": 256,
   "id": "727326b7-0568-401a-9ec5-3268c78c6d78",
   "metadata": {},
   "outputs": [
    {
     "data": {
      "text/plain": [
       "array([ 1,  2,  3,  8, 10])"
      ]
     },
     "execution_count": 256,
     "metadata": {},
     "output_type": "execute_result"
    }
   ],
   "source": [
    "a=np.array([1,2,3,4,5])\n",
    "np.where(a>3,a*2,a)"
   ]
  },
  {
   "cell_type": "markdown",
   "id": "9c16c0d7-e0ff-48fc-9cae-62fb26e14049",
   "metadata": {},
   "source": [
    "Replacing explicit loops with NumPy functions like np.sum(), np.mean(), and using np.vectorize().\t\t\t\t\t\t\t\t\t"
   ]
  },
  {
   "cell_type": "code",
   "execution_count": 259,
   "id": "bfc874d2-2e90-4069-8878-5895884b3492",
   "metadata": {},
   "outputs": [
    {
     "name": "stdout",
     "output_type": "stream",
     "text": [
      "2.5\n"
     ]
    }
   ],
   "source": [
    "a = np.array([1, 2, 3, 4])\n",
    "\n",
    "# Traditional loop for calculating the mean\n",
    "total = 0\n",
    "for x in a:\n",
    "    total += x\n",
    "mean_value = total / len(a)\n",
    "print(mean_value)  # Output: 2.5\n"
   ]
  },
  {
   "cell_type": "code",
   "execution_count": 261,
   "id": "6f739283-e69b-4292-bf54-a792607bda69",
   "metadata": {},
   "outputs": [
    {
     "name": "stdout",
     "output_type": "stream",
     "text": [
      "2.5\n"
     ]
    }
   ],
   "source": [
    "mean_value = np.mean(a)\n",
    "print(mean_value)  # Output: 2.5\n"
   ]
  },
  {
   "cell_type": "code",
   "execution_count": 263,
   "id": "da4e5e18-f876-49da-9c52-b0bef15458b9",
   "metadata": {},
   "outputs": [
    {
     "name": "stdout",
     "output_type": "stream",
     "text": [
      "10\n"
     ]
    }
   ],
   "source": [
    "import numpy as np\n",
    "\n",
    "a = np.array([1, 2, 3, 4])\n",
    "\n",
    "# Traditional loop for summing elements\n",
    "total = 0\n",
    "for x in a:\n",
    "    total += x\n",
    "print(total)  # Output: 10\n"
   ]
  },
  {
   "cell_type": "code",
   "execution_count": 265,
   "id": "8930bee9-32f7-4f76-a7c8-e6d566aee3b7",
   "metadata": {},
   "outputs": [
    {
     "name": "stdout",
     "output_type": "stream",
     "text": [
      "10\n"
     ]
    }
   ],
   "source": [
    "total = np.sum(a)\n",
    "print(total)  # Output: 10\n"
   ]
  },
  {
   "cell_type": "code",
   "execution_count": 5,
   "id": "8a49a2e5-33e3-425f-81d9-b444eea92f7b",
   "metadata": {},
   "outputs": [
    {
     "name": "stdout",
     "output_type": "stream",
     "text": [
      "10 1\n",
      "12 2\n",
      "10 3\n",
      "12 4\n",
      "10 5\n",
      "12 6\n",
      "10 7\n",
      "12 8\n"
     ]
    }
   ],
   "source": [
    "import numpy as np\n",
    "a = np.array([10,12])\n",
    "b = np.array([[[1,2],[3,4]],[[5,6],[7,8]]])\n",
    "for x,y in np.nditer([a,b]):\n",
    "    print(x,y)"
   ]
  },
  {
   "cell_type": "code",
   "execution_count": null,
   "id": "fc43a6e2-dedc-4008-a623-e710b9e263c3",
   "metadata": {},
   "outputs": [],
   "source": []
  }
 ],
 "metadata": {
  "kernelspec": {
   "display_name": "Python 3 (ipykernel)",
   "language": "python",
   "name": "python3"
  },
  "language_info": {
   "codemirror_mode": {
    "name": "ipython",
    "version": 3
   },
   "file_extension": ".py",
   "mimetype": "text/x-python",
   "name": "python",
   "nbconvert_exporter": "python",
   "pygments_lexer": "ipython3",
   "version": "3.12.4"
  }
 },
 "nbformat": 4,
 "nbformat_minor": 5
}
