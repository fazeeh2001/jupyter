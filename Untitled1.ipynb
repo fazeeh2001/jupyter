{
 "cells": [
  {
   "cell_type": "code",
   "execution_count": 5,
   "id": "5bf76b27-cd37-4f84-923c-06bca1d12063",
   "metadata": {},
   "outputs": [],
   "source": [
    "import matplotlib.pyplot as plt\n",
    "import numpy as np\n",
    "import pandas as pd"
   ]
  },
  {
   "cell_type": "code",
   "execution_count": 7,
   "id": "d35996e4-564d-484d-8c9e-a79c59dc8410",
   "metadata": {},
   "outputs": [
    {
     "data": {
      "text/plain": [
       "array([[1, 0, 0],\n",
       "       [0, 2, 0],\n",
       "       [0, 0, 3]])"
      ]
     },
     "execution_count": 7,
     "metadata": {},
     "output_type": "execute_result"
    }
   ],
   "source": [
    "data = np.diag([1,2,3])\n",
    "data"
   ]
  },
  {
   "cell_type": "code",
   "execution_count": 27,
   "id": "9c8925bb-9c76-43e6-9401-cdc5d1c287cf",
   "metadata": {},
   "outputs": [
    {
     "data": {
      "image/png": "[encoded data removed]",
      "text/plain": [
       "<Figure size 640x480 with 2 Axes>"
      ]
     },
     "metadata": {},
     "output_type": "display_data"
    }
   ],
   "source": [
    "plt.imshow(data,cmap='viridis')\n",
    "plt.colorbar()\n",
    "plt.title('visualisation of matrix')\n",
    "plt.grid()\n",
    "plt.show()"
   ]
  },
  {
   "cell_type": "code",
   "execution_count": 29,
   "id": "f29c66db-fc86-424b-8ef7-159afe1017e2",
   "metadata": {},
   "outputs": [
    {
     "data": {
      "text/plain": [
       "26"
      ]
     },
     "execution_count": 29,
     "metadata": {},
     "output_type": "execute_result"
    }
   ],
   "source": [
    "a = np.array([1,2,3])\n",
    "b = np.array([3,4,5])\n",
    "\n",
    "dot_product = np.dot(a,b)\n",
    "dot_product"
   ]
  },
  {
   "cell_type": "code",
   "execution_count": 33,
   "id": "616b35e4-1f3e-4eb0-965d-7f47f6f2e083",
   "metadata": {},
   "outputs": [
    {
     "data": {
      "text/plain": [
       "array([-2,  4, -2])"
      ]
     },
     "execution_count": 33,
     "metadata": {},
     "output_type": "execute_result"
    }
   ],
   "source": [
    "a = np.array([1,2,3])\n",
    "b = np.array([3,4,5])\n",
    "\n",
    "cross_product = np.cross(a,b)\n",
    "cross_product"
   ]
  },
  {
   "cell_type": "code",
   "execution_count": 41,
   "id": "4274ff30-ff31-467f-a39a-00e4eab7d9b0",
   "metadata": {},
   "outputs": [
    {
     "data": {
      "text/plain": [
       "array([[1, 3, 6],\n",
       "       [2, 4, 7],\n",
       "       [3, 5, 8]])"
      ]
     },
     "execution_count": 41,
     "metadata": {},
     "output_type": "execute_result"
    }
   ],
   "source": [
    "a=np.array([[1,2,3],\n",
    "            [3,4,5],\n",
    "            [6,7,8]\n",
    "           ])\n",
    "trasposeofa = np.transpose(a)\n",
    "trasposeofa"
   ]
  },
  {
   "cell_type": "code",
   "execution_count": 45,
   "id": "03f00d14-e5d5-40aa-a010-a518bbb3dcc4",
   "metadata": {},
   "outputs": [
    {
     "name": "stdout",
     "output_type": "stream",
     "text": [
      "[-0.37228132  5.37228132]\n",
      "[[-0.82456484 -0.41597356]\n",
      " [ 0.56576746 -0.90937671]]\n"
     ]
    }
   ],
   "source": [
    "d = np.array([[1,2],[3,4]])\n",
    "eigenvalue,eigenvector = np.linalg.eig(d)\n",
    "print(eigenvalue)\n",
    "print(eigenvector)"
   ]
  },
  {
   "cell_type": "code",
   "execution_count": null,
   "id": "5a39d869-852c-4008-bc71-703b93fb1263",
   "metadata": {},
   "outputs": [],
   "source": []
  }
 ],
 "metadata": {
  "kernelspec": {
   "display_name": "Python 3 (ipykernel)",
   "language": "python",
   "name": "python3"
  },
  "language_info": {
   "codemirror_mode": {
    "name": "ipython",
    "version": 3
   },
   "file_extension": ".py",
   "mimetype": "text/x-python",
   "name": "python",
   "nbconvert_exporter": "python",
   "pygments_lexer": "ipython3",
   "version": "3.12.4"
  }
 },
 "nbformat": 4,
 "nbformat_minor": 5
}
